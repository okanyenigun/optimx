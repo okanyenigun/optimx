{
 "cells": [
  {
   "cell_type": "markdown",
   "metadata": {},
   "source": [
    "#### Traveling Salesman Problem"
   ]
  },
  {
   "cell_type": "code",
   "execution_count": null,
   "metadata": {},
   "outputs": [],
   "source": [
    "import optimx as ox"
   ]
  },
  {
   "cell_type": "code",
   "execution_count": null,
   "metadata": {},
   "outputs": [],
   "source": [
    "distance_matrix = [\n",
    "    [0, 10, 15, 20],\n",
    "    [10, 0, 35, 25],\n",
    "    [15, 35, 0, 30],\n",
    "    [20, 25, 30, 0]\n",
    "]\n",
    "\n",
    "algorithm = \"branch_and_bound\" # \"nearest_neighbor\", \"branch_and_bound\", \"genetic_algorithm\"\n",
    "node_names = None # [\"A\", \"B\", \"C\", \"D\"]\n",
    "start_node = None # \"A\"\n",
    "cycle = False # True\n",
    "node_coordinates = None # [(0, 0), (0, 1), (1, 0), (1, 1)]\n",
    "\n",
    "best_route = ox.solve_tsp(distance_matrix=distance_matrix, algorithm=algorithm, node_names=node_names, start_node=start_node, cycle=cycle)\n",
    "\n",
    "print(\"Best route:\", best_route)"
   ]
  },
  {
   "cell_type": "code",
   "execution_count": null,
   "metadata": {},
   "outputs": [],
   "source": [
    "total_distance = ox.calculate_tsp_distance_by_route(distance_matrix=distance_matrix, route=best_route, node_names=node_names)\n",
    "print(\"Total distance:\", total_distance)"
   ]
  },
  {
   "cell_type": "code",
   "execution_count": null,
   "metadata": {},
   "outputs": [],
   "source": [
    "ox.plot_tsp_route(best_route, node_names, node_coordinates, start_node, cycle)"
   ]
  },
  {
   "cell_type": "markdown",
   "metadata": {},
   "source": [
    "#### Knapsack Problem"
   ]
  },
  {
   "cell_type": "code",
   "execution_count": 5,
   "metadata": {},
   "outputs": [],
   "source": [
    "weights = [2, 3, 4, 5]\n",
    "values = [3, 4, 5, 6]\n",
    "capacity = 8"
   ]
  },
  {
   "cell_type": "code",
   "execution_count": null,
   "metadata": {},
   "outputs": [],
   "source": [
    "best_combination, max_val = ox.solve_knapsack(weights, values, capacity, \"brute\")\n",
    "print(f\"Best combination: {best_combination}, max value: {max_val}\")"
   ]
  },
  {
   "cell_type": "code",
   "execution_count": null,
   "metadata": {},
   "outputs": [],
   "source": [
    "best_combination, max_val = ox.solve_knapsack(weights, values, capacity, \"dynamic_programming\")\n",
    "print(f\"Best combination: {best_combination}, max value: {max_val}\")"
   ]
  },
  {
   "cell_type": "code",
   "execution_count": null,
   "metadata": {},
   "outputs": [],
   "source": [
    "best_combination, max_val = ox.solve_knapsack(weights, values, capacity, \"greedy\")\n",
    "print(f\"Best combination: {best_combination}, max value: {max_val}\")"
   ]
  },
  {
   "cell_type": "markdown",
   "metadata": {},
   "source": [
    "#### Ant Colony Optimization"
   ]
  },
  {
   "cell_type": "code",
   "execution_count": null,
   "metadata": {},
   "outputs": [],
   "source": [
    "from optimx.utils import generate_square_distances\n",
    "\n",
    "distances = generate_square_distances(10)\n",
    "\n",
    "n_ants = 10\n",
    "n_best = 2\n",
    "n_iteration = 100\n",
    "decay = 0.6\n",
    "\n",
    "shortest_paths = ox.solve_ant_colony(distances, n_ants, n_best, n_iteration, decay)\n",
    "print(\"Shortest paths:\", shortest_paths)"
   ]
  }
 ],
 "metadata": {
  "kernelspec": {
   "display_name": "venv",
   "language": "python",
   "name": "python3"
  },
  "language_info": {
   "codemirror_mode": {
    "name": "ipython",
    "version": 3
   },
   "file_extension": ".py",
   "mimetype": "text/x-python",
   "name": "python",
   "nbconvert_exporter": "python",
   "pygments_lexer": "ipython3",
   "version": "3.11.5"
  }
 },
 "nbformat": 4,
 "nbformat_minor": 2
}
